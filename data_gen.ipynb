{
 "cells": [
  {
   "cell_type": "code",
   "execution_count": null,
   "id": "3c7e14b3",
   "metadata": {},
   "outputs": [],
   "source": [
    "import open3d as o3d\n",
    "import numpy as np\n",
    "import time\n",
    "import math\n",
    "import os\n",
    "\n",
    "# Define the view angles in degrees\n",
    "angles = [0, 45, 90, 135, 180]\n",
    "\n",
    "# List of datasets you want to use\n",
    "dataset_classes = [\n",
    "    o3d.data.BunnyMesh,\n",
    "    o3d.data.KnotMesh,\n",
    "    o3d.data.ArmadilloMesh,\n",
    "]\n",
    "\n",
    "def render_views(mesh, name_prefix, angles):\n",
    "    vis = o3d.visualization.Visualizer()\n",
    "    vis.create_window(visible=False)\n",
    "    vis.add_geometry(mesh)\n",
    "    \n",
    "    ctr = vis.get_view_control()\n",
    "    ctr.set_zoom(0.7)\n",
    "\n",
    "    for i, angle in enumerate(angles):        \n",
    "        # Rotate camera around the y-axis\n",
    "        radians = np.deg2rad(angle)\n",
    "        x = math.sin(radians)\n",
    "        z = math.cos(radians)\n",
    "        front = [x, 0, z]\n",
    "        ctr.set_front(front)\n",
    "        \n",
    "        vis.poll_events()\n",
    "        vis.update_renderer()\n",
    "\n",
    "        filename = f\"./views/{name_prefix}_view_{i}.png\"\n",
    "        vis.capture_screen_image(filename)\n",
    "        print(f\"Saved: {filename}\")\n",
    "        time.sleep(0.1)\n",
    "\n",
    "    vis.destroy_window()\n",
    "\n",
    "# Process all datasets\n",
    "for DatasetClass in dataset_classes:\n",
    "    dataset = DatasetClass()\n",
    "    mesh = o3d.io.read_triangle_mesh(dataset.path)\n",
    "    mesh.compute_vertex_normals()\n",
    "\n",
    "    mesh_name = DatasetClass.__name__\n",
    "    render_views(mesh, mesh_name, angles)\n"
   ]
  }
 ],
 "metadata": {
  "kernelspec": {
   "display_name": ".venv",
   "language": "python",
   "name": "python3"
  },
  "language_info": {
   "name": "python",
   "version": "3.11.9"
  }
 },
 "nbformat": 4,
 "nbformat_minor": 5
}
