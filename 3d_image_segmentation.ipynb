{
 "cells": [
  {
   "cell_type": "code",
   "execution_count": 1,
   "metadata": {},
   "outputs": [
    {
     "name": "stderr",
     "output_type": "stream",
     "text": [
      "/Users/idilkpkrn/Desktop/llm_data_vis/.venv/lib/python3.11/site-packages/tqdm/auto.py:21: TqdmWarning: IProgress not found. Please update jupyter and ipywidgets. See https://ipywidgets.readthedocs.io/en/stable/user_install.html\n",
      "  from .autonotebook import tqdm as notebook_tqdm\n"
     ]
    }
   ],
   "source": [
    "from transformers import BlipProcessor, BlipForConditionalGeneration\n",
    "from PIL import Image"
   ]
  },
  {
   "cell_type": "markdown",
   "metadata": {},
   "source": [
    "## Bunny"
   ]
  },
  {
   "cell_type": "code",
   "execution_count": 2,
   "metadata": {},
   "outputs": [
    {
     "name": "stderr",
     "output_type": "stream",
     "text": [
      "2025-03-09 18:16:58.840 Python[14834:23703227] +[IMKClient subclass]: chose IMKClient_Modern\n",
      "2025-03-09 18:16:58.840 Python[14834:23703227] +[IMKInputSession subclass]: chose IMKInputSession_Modern\n"
     ]
    }
   ],
   "source": [
    "import open3d as o3d\n",
    "import numpy as np\n",
    "\n",
    "bunny = o3d.data.BunnyMesh()\n",
    "mesh = o3d.io.read_triangle_mesh(bunny.path)\n",
    "mesh.compute_vertex_normals()\n",
    "o3d.visualization.draw_geometries([mesh])\n",
    "\n",
    "#pcd = mesh.sample_points_uniformly(number_of_points=500)\n",
    "#o3d.visualization.draw_geometries([pcd])"
   ]
  },
  {
   "cell_type": "code",
   "execution_count": null,
   "metadata": {},
   "outputs": [
    {
     "ename": "",
     "evalue": "",
     "output_type": "error",
     "traceback": [
      "\u001b[1;31mThe Kernel crashed while executing code in the current cell or a previous cell. \n",
      "\u001b[1;31mPlease review the code in the cell(s) to identify a possible cause of the failure. \n",
      "\u001b[1;31mClick <a href='https://aka.ms/vscodeJupyterKernelCrash'>here</a> for more info. \n",
      "\u001b[1;31mView Jupyter <a href='command:jupyter.viewOutput'>log</a> for further details."
     ]
    }
   ],
   "source": [
    "vis = o3d.visualization.Visualizer()\n",
    "vis.create_window(visible=False)\n",
    "vis.add_geometry(mesh)\n",
    "\n",
    "angles = [0, 45, 90, 135, 180]\n",
    "for i, angle in enumerate(angles):\n",
    "    ctr = vis.get_view_control()\n",
    "    ctr.rotate(angle, 0)\n",
    "    vis.poll_events()\n",
    "    vis.update_renderer()\n",
    "    vis.capture_screen_image(f\"view_{i}.png\")\n",
    "\n",
    "vis.destroy_window()"
   ]
  },
  {
   "cell_type": "markdown",
   "metadata": {},
   "source": [
    "## Segment the Object"
   ]
  },
  {
   "cell_type": "code",
   "execution_count": 4,
   "metadata": {},
   "outputs": [],
   "source": [
    "from transformers import CLIPProcessor, CLIPModel\n",
    "model = CLIPModel.from_pretrained(\"openai/clip-vit-base-patch32\")\n",
    "processor = CLIPProcessor.from_pretrained(\"openai/clip-vit-base-patch32\")"
   ]
  },
  {
   "cell_type": "code",
   "execution_count": 5,
   "metadata": {},
   "outputs": [],
   "source": [
    "from PIL import Image\n",
    "import torch\n",
    "\n",
    "image = Image.open(\"bunny_views/view_0.png\")\n",
    "\n",
    "user_input = \"ears of the bunny\"\n",
    "\n",
    "inputs = processor(text=user_input, images=image, return_tensors=\"pt\", padding=True)\n",
    "\n",
    "outputs = model(**inputs)\n",
    "logits_per_image = outputs.logits_per_image \n",
    "probs = logits_per_image.softmax(dim=1)    \n"
   ]
  },
  {
   "cell_type": "code",
   "execution_count": 8,
   "metadata": {},
   "outputs": [
    {
     "name": "stderr",
     "output_type": "stream",
     "text": [
      "/Users/idilkpkrn/Desktop/llm_data_vis/.venv/lib/python3.11/site-packages/transformers/utils/deprecation.py:165: UserWarning: The following named arguments are not valid for `Mask2FormerImageProcessor.__init__` and were ignored: '_max_size'\n",
      "  return func(*args, **kwargs)\n"
     ]
    },
    {
     "data": {
      "text/plain": [
       "Mask2FormerForUniversalSegmentationOutput(loss=None, class_queries_logits=tensor([[[ -4.6909,  -8.7132,  -5.7181,  ...,  -8.2359,  -5.8457,   8.3645],\n",
       "         [ -3.1940, -10.0483,  -6.6985,  ...,  -8.0570,  -6.6982,   9.2404],\n",
       "         [ -4.4170,  -9.8760,  -6.8623,  ...,  -8.7166,  -6.1629,   8.8459],\n",
       "         ...,\n",
       "         [ -4.4256,  -9.5652,  -6.4327,  ...,  -8.5004,  -6.2744,   8.6360],\n",
       "         [ -4.6566,  -9.6568,  -6.6830,  ...,  -8.7339,  -6.0780,   8.6415],\n",
       "         [ -4.7278,  -8.6246,  -6.6024,  ...,  -8.4249,  -5.6185,   8.2067]]],\n",
       "       grad_fn=<ViewBackward0>), masks_queries_logits=tensor([[[[-13.1014, -14.6546, -17.2258,  ..., -15.8130, -12.0958,  -8.7961],\n",
       "          [-11.6799, -12.5623, -12.9669,  ...,  -7.5339,  -6.3270,  -8.2004],\n",
       "          [-12.2438, -12.7873, -12.7143,  ...,  -6.6340,  -6.4419,  -7.5084],\n",
       "          ...,\n",
       "          [-15.1115, -11.1915, -10.4298,  ...,  -7.5443,  -8.5253, -10.4924],\n",
       "          [-15.6806, -12.2614, -11.8428,  ...,  -8.8962,  -9.5624, -11.3396],\n",
       "          [-15.5940, -17.3756, -17.2789,  ..., -12.0935, -12.6442, -14.3880]],\n",
       "\n",
       "         [[-26.4716, -27.0427, -27.7834,  ..., -26.7561, -25.9361, -23.2351],\n",
       "          [-25.3293, -23.9291, -23.0982,  ..., -20.0899, -20.7257, -22.9163],\n",
       "          [-24.9901, -23.6560, -22.5773,  ..., -19.0000, -20.1340, -21.2233],\n",
       "          ...,\n",
       "          [-21.4137, -18.3106, -17.7962,  ..., -15.4936, -15.6943, -17.7139],\n",
       "          [-21.7361, -18.5227, -18.1574,  ..., -15.9357, -15.9988, -18.3428],\n",
       "          [-19.7946, -21.4865, -21.2404,  ..., -17.4588, -17.6910, -20.0674]],\n",
       "\n",
       "         [[-18.7188, -18.8693, -21.7349,  ..., -20.9000, -17.1477, -14.6079],\n",
       "          [-15.7199, -14.3919, -14.4699,  ...,  -9.5062,  -8.6971, -12.9489],\n",
       "          [-15.9985, -14.5304, -14.2132,  ...,  -9.1045,  -9.0855, -12.2522],\n",
       "          ...,\n",
       "          [-18.0857, -13.6410, -13.0955,  ...,  -9.5783, -10.2144, -13.9075],\n",
       "          [-18.3742, -14.1644, -13.8657,  ..., -10.3205, -10.7555, -14.5822],\n",
       "          [-18.1856, -20.0899, -20.2063,  ..., -14.0945, -14.5882, -18.5146]],\n",
       "\n",
       "         ...,\n",
       "\n",
       "         [[-12.2405, -13.7917, -16.6312,  ..., -15.7043, -11.7749,  -9.0857],\n",
       "          [ -9.8089, -10.4775, -11.1017,  ...,  -6.6047,  -5.2468,  -8.2069],\n",
       "          [-10.3374, -10.6576, -10.8227,  ...,  -6.2938,  -5.8141,  -8.1208],\n",
       "          ...,\n",
       "          [-13.9227, -10.4625, -10.0640,  ...,  -7.7782,  -8.5140, -11.5786],\n",
       "          [-14.1121, -10.9929, -10.8423,  ...,  -8.5864,  -9.0965, -12.2141],\n",
       "          [-13.4431, -15.2440, -15.4255,  ..., -11.0086, -11.5067, -14.7132]],\n",
       "\n",
       "         [[-17.6038, -18.6742, -21.7254,  ..., -21.5991, -17.7034, -14.8345],\n",
       "          [-15.4119, -15.5475, -15.8597,  ..., -11.6221, -10.8578, -14.3454],\n",
       "          [-16.0126, -15.8897, -15.7168,  ..., -10.9981, -11.1212, -13.6166],\n",
       "          ...,\n",
       "          [-16.9566, -13.9656, -13.4618,  ..., -10.1908, -10.8943, -14.1942],\n",
       "          [-17.1205, -14.4203, -14.2146,  ..., -10.9836, -11.4395, -14.7976],\n",
       "          [-16.8757, -19.2361, -19.3746,  ..., -13.9810, -14.5365, -17.8807]],\n",
       "\n",
       "         [[-67.0384, -63.3924, -66.1814,  ..., -72.2065, -68.0562, -56.5543],\n",
       "          [-63.6550, -56.9316, -53.1670,  ..., -46.1447, -50.2595, -56.2039],\n",
       "          [-61.3247, -55.2144, -51.3933,  ..., -41.6829, -46.5099, -50.5970],\n",
       "          ...,\n",
       "          [-41.3261, -34.7739, -32.7292,  ..., -24.8993, -25.4994, -29.4294],\n",
       "          [-43.1804, -37.3025, -35.5802,  ..., -26.4786, -26.6663, -30.8497],\n",
       "          [-49.4437, -53.3731, -52.8935,  ..., -37.2044, -37.9001, -43.1255]]]],\n",
       "       grad_fn=<ViewBackward0>), auxiliary_logits=None, encoder_last_hidden_state=tensor([[[[ 0.0158,  0.2178,  0.3621,  ...,  0.4873,  0.1185,  0.0603],\n",
       "          [ 0.0117,  0.2350,  0.9483,  ...,  0.4884,  0.1549,  0.0125],\n",
       "          [ 0.4145,  0.6139,  1.1604,  ...,  0.8559,  1.3420,  0.2854],\n",
       "          ...,\n",
       "          [ 0.6774,  1.2206,  1.5779,  ...,  1.2212,  1.4105,  0.8588],\n",
       "          [ 0.3482,  0.8595,  1.1050,  ...,  0.8715,  0.5804,  0.1936],\n",
       "          [ 0.0792,  0.3645,  0.6772,  ...,  1.1009,  0.1342,  0.0248]],\n",
       "\n",
       "         [[ 0.0448,  0.0925,  0.1056,  ..., -0.0108,  0.0204,  0.0181],\n",
       "          [ 0.0187, -0.0509, -0.1013,  ..., -0.0276, -0.0743,  0.0810],\n",
       "          [ 0.1605,  0.0800, -0.4873,  ...,  0.0719, -0.6847,  0.1868],\n",
       "          ...,\n",
       "          [ 0.0068, -0.1972, -0.0878,  ..., -0.1071, -0.0164,  0.3074],\n",
       "          [ 0.0903, -0.2232, -0.6119,  ...,  0.6525, -0.0606,  0.1700],\n",
       "          [ 0.0063,  0.1998,  0.6319,  ...,  0.6520,  0.1045,  0.0580]],\n",
       "\n",
       "         [[ 0.1789,  0.2556,  0.5973,  ...,  0.2311,  0.2183,  0.1407],\n",
       "          [ 0.1112,  0.2338, -0.0217,  ...,  0.2799,  0.1125,  0.1274],\n",
       "          [ 0.5604,  0.4514,  0.4433,  ...,  0.3315, -0.3156,  0.3963],\n",
       "          ...,\n",
       "          [ 0.5199,  0.1925,  0.3412,  ..., -0.1921, -0.1693,  0.3190],\n",
       "          [ 0.3958,  0.4572,  0.3569,  ...,  0.1891,  0.1775,  0.1737],\n",
       "          [ 0.1674,  0.2901,  0.7148,  ...,  0.1119,  0.1510,  0.0886]],\n",
       "\n",
       "         ...,\n",
       "\n",
       "         [[-0.0809, -0.2606, -0.1187,  ..., -0.5267, -0.0877, -0.0308],\n",
       "          [-0.0770, -0.2102,  0.5708,  ..., -0.0533, -0.1737, -0.0556],\n",
       "          [ 0.2008,  0.3147,  1.3384,  ...,  0.5952, -0.3773,  0.2199],\n",
       "          ...,\n",
       "          [-0.0236,  0.2364,  0.7938,  ...,  0.4679,  0.1953,  0.2125],\n",
       "          [-0.2141, -0.2315, -0.0578,  ...,  0.7098, -0.2866, -0.2292],\n",
       "          [-0.0711, -0.1097,  0.2312,  ...,  0.2411, -0.1794, -0.0457]],\n",
       "\n",
       "         [[-0.1948, -0.0404, -0.3642,  ..., -0.1246, -0.0754, -0.1583],\n",
       "          [-0.2394, -0.1186, -1.2104,  ..., -0.7138,  0.0918, -0.1370],\n",
       "          [-0.7778, -0.7332, -1.0945,  ..., -1.1785, -1.0435, -0.7371],\n",
       "          ...,\n",
       "          [-0.4108, -0.6164, -1.3260,  ..., -1.3875, -1.0870, -0.9980],\n",
       "          [-0.0097, -0.1109, -1.2537,  ..., -1.1583, -0.2514, -0.2117],\n",
       "          [-0.1691, -0.0875, -0.7445,  ..., -1.1808, -0.2621, -0.2341]],\n",
       "\n",
       "         [[ 0.0391, -0.1619, -0.3661,  ..., -0.3098, -0.0461,  0.0534],\n",
       "          [ 0.0329, -0.0871,  0.2179,  ..., -0.5960, -0.0682,  0.0104],\n",
       "          [-0.6254, -0.6464, -0.0967,  ..., -0.6906,  0.8129, -0.5762],\n",
       "          ...,\n",
       "          [-0.3753,  0.0907,  0.1341,  ...,  0.0113, -0.0856, -0.5591],\n",
       "          [-0.0779,  0.1918,  0.3047,  ..., -0.7830,  0.2511,  0.0543],\n",
       "          [ 0.0687,  0.0927, -0.2313,  ..., -0.4739,  0.0818,  0.0810]]]],\n",
       "       grad_fn=<CloneBackward0>), pixel_decoder_last_hidden_state=tensor([[[[-2.7624e-01, -9.7392e-02, -1.3208e-01,  ..., -4.8766e-02,\n",
       "            1.2497e-02, -1.1561e-01],\n",
       "          [-1.3559e-01,  1.8895e-01,  1.7209e-01,  ...,  3.0196e-01,\n",
       "            3.4096e-01,  1.1588e-01],\n",
       "          [-1.2895e-01,  2.1911e-01,  2.0797e-01,  ...,  3.2702e-01,\n",
       "            3.4102e-01,  1.2547e-01],\n",
       "          ...,\n",
       "          [-1.9877e-01, -2.4616e-02, -2.4149e-04,  ...,  4.7052e-02,\n",
       "            2.1207e-02, -1.0920e-01],\n",
       "          [-2.2219e-01, -6.6087e-02, -4.3516e-02,  ..., -1.8408e-04,\n",
       "           -1.9531e-02, -1.2960e-01],\n",
       "          [-3.0198e-01, -2.4075e-01, -2.1672e-01,  ..., -1.7054e-01,\n",
       "           -1.8066e-01, -1.7200e-01]],\n",
       "\n",
       "         [[ 1.5946e+00,  1.4886e+00,  1.4592e+00,  ...,  1.6830e+00,\n",
       "            1.7613e+00,  1.4302e+00],\n",
       "          [ 1.5468e+00,  1.1809e+00,  1.0879e+00,  ...,  1.2717e+00,\n",
       "            1.4509e+00,  1.4114e+00],\n",
       "          [ 1.5300e+00,  1.1820e+00,  1.0730e+00,  ...,  1.1291e+00,\n",
       "            1.3088e+00,  1.2631e+00],\n",
       "          ...,\n",
       "          [ 7.9276e-01,  5.3423e-01,  4.9691e-01,  ...,  4.3798e-01,\n",
       "            4.4189e-01,  5.1771e-01],\n",
       "          [ 8.3012e-01,  5.7265e-01,  5.3562e-01,  ...,  4.3875e-01,\n",
       "            4.3365e-01,  5.1892e-01],\n",
       "          [ 7.0022e-01,  6.2355e-01,  5.8289e-01,  ...,  4.4382e-01,\n",
       "            4.6068e-01,  4.8537e-01]],\n",
       "\n",
       "         [[ 4.2257e-01,  4.7922e-01,  4.3894e-01,  ...,  2.6537e-01,\n",
       "            3.1230e-01,  2.1775e-01],\n",
       "          [ 4.4532e-01,  5.3938e-01,  5.0314e-01,  ...,  2.3703e-01,\n",
       "            2.6565e-01,  1.9346e-01],\n",
       "          [ 4.0002e-01,  5.0782e-01,  4.8044e-01,  ...,  2.1963e-01,\n",
       "            2.3739e-01,  1.6976e-01],\n",
       "          ...,\n",
       "          [ 1.6330e-01,  3.5718e-01,  3.6059e-01,  ...,  2.6872e-01,\n",
       "            2.5327e-01,  1.5844e-01],\n",
       "          [ 1.7534e-01,  3.6042e-01,  3.5570e-01,  ...,  2.6841e-01,\n",
       "            2.5464e-01,  1.5977e-01],\n",
       "          [ 8.0584e-02,  2.0155e-01,  1.9287e-01,  ...,  1.4333e-01,\n",
       "            1.3586e-01,  1.6557e-01]],\n",
       "\n",
       "         ...,\n",
       "\n",
       "         [[-1.4432e-01, -7.9087e-02, -7.7520e-02,  ..., -1.4341e-01,\n",
       "           -1.3558e-01, -1.1618e-01],\n",
       "          [-2.1641e-01, -1.2810e-01, -1.0458e-01,  ..., -1.1813e-01,\n",
       "           -1.4485e-01, -1.3503e-01],\n",
       "          [-2.1327e-01, -1.4313e-01, -1.2999e-01,  ..., -1.0301e-01,\n",
       "           -1.2005e-01, -1.1236e-01],\n",
       "          ...,\n",
       "          [-6.5929e-02, -8.7300e-02, -7.8621e-02,  ..., -1.0528e-01,\n",
       "           -1.1325e-01,  3.3843e-02],\n",
       "          [-5.8586e-02, -8.5678e-02, -7.9878e-02,  ..., -1.1202e-01,\n",
       "           -1.1871e-01,  4.1738e-02],\n",
       "          [-1.0448e-01, -8.5385e-02, -9.4082e-02,  ..., -1.2876e-01,\n",
       "           -1.2927e-01,  8.7024e-02]],\n",
       "\n",
       "         [[-2.4505e-01, -1.0699e-01, -2.8518e-02,  ..., -7.6704e-02,\n",
       "           -2.1094e-01, -2.1468e-01],\n",
       "          [-1.3818e-01, -2.7869e-02,  5.8975e-02,  ...,  5.4203e-02,\n",
       "           -8.7273e-02, -1.8079e-01],\n",
       "          [-7.7002e-02, -5.2431e-03,  7.2755e-02,  ...,  1.2942e-01,\n",
       "            4.1548e-02, -8.5701e-02],\n",
       "          ...,\n",
       "          [ 3.1953e-01,  3.9105e-01,  4.1779e-01,  ...,  4.1526e-01,\n",
       "            4.3429e-01,  3.6558e-01],\n",
       "          [ 2.7709e-01,  3.3221e-01,  3.6278e-01,  ...,  4.0642e-01,\n",
       "            4.2302e-01,  3.5580e-01],\n",
       "          [ 1.7793e-01,  2.2712e-01,  2.3835e-01,  ...,  3.0908e-01,\n",
       "            3.1830e-01,  2.4412e-01]],\n",
       "\n",
       "         [[ 7.7801e-01,  6.9431e-01,  7.5421e-01,  ...,  8.9092e-01,\n",
       "            8.7343e-01,  8.7012e-01],\n",
       "          [ 6.0793e-01,  4.5508e-01,  4.2330e-01,  ...,  4.8415e-01,\n",
       "            5.2715e-01,  7.6277e-01],\n",
       "          [ 5.6384e-01,  4.0843e-01,  3.6946e-01,  ...,  4.2134e-01,\n",
       "            4.8067e-01,  6.2544e-01],\n",
       "          ...,\n",
       "          [ 5.8608e-01,  4.1472e-01,  3.8334e-01,  ...,  4.0603e-01,\n",
       "            4.2533e-01,  5.2108e-01],\n",
       "          [ 6.2273e-01,  4.5622e-01,  4.3335e-01,  ...,  4.4625e-01,\n",
       "            4.5744e-01,  5.6237e-01],\n",
       "          [ 7.3753e-01,  7.7208e-01,  7.5636e-01,  ...,  6.5985e-01,\n",
       "            6.7468e-01,  7.9495e-01]]]], grad_fn=<ConvolutionBackward0>), transformer_decoder_last_hidden_state=tensor([[[ 1.7048, -0.1364, -0.7939,  ...,  2.1286, -0.1683, -0.2214],\n",
       "         [ 0.4687, -1.4454, -0.7998,  ...,  1.1100, -0.1058, -1.1153],\n",
       "         [ 1.5461, -0.5581, -0.6264,  ...,  1.8342, -0.0291, -0.4646],\n",
       "         ...,\n",
       "         [ 1.6113, -0.4675, -0.6889,  ...,  2.1113, -0.0757, -0.4085],\n",
       "         [ 1.7037, -0.3624, -0.6800,  ...,  2.0252, -0.1078, -0.3995],\n",
       "         [ 1.9407,  0.4176, -0.9577,  ...,  2.3398, -0.1319, -0.3235]]],\n",
       "       grad_fn=<TransposeBackward0>), encoder_hidden_states=None, pixel_decoder_hidden_states=None, transformer_decoder_hidden_states=None, attentions=None)"
      ]
     },
     "execution_count": 8,
     "metadata": {},
     "output_type": "execute_result"
    }
   ],
   "source": [
    "from transformers import Mask2FormerForUniversalSegmentation, Mask2FormerImageProcessor\n",
    "\n",
    "segmentation_processor = Mask2FormerImageProcessor.from_pretrained(\"facebook/mask2former-swin-large-coco-instance\")\n",
    "segmentation_model = Mask2FormerForUniversalSegmentation.from_pretrained(\"facebook/mask2former-swin-large-coco-instance\")\n",
    "\n",
    "inputs = segmentation_processor(image, return_tensors=\"pt\")\n",
    "outputs = segmentation_model(**inputs)\n",
    "outputs\n",
    "#masks = outputs.masks"
   ]
  },
  {
   "cell_type": "code",
   "execution_count": null,
   "metadata": {},
   "outputs": [
    {
     "data": {
      "text/plain": [
       "[array([80, 80, 80, 80, 80, 80, 80, 80, 80, 80, 80, 80, 80, 80, 80, 80, 80,\n",
       "        80, 80, 18, 80, 80, 80, 80, 80, 80, 80, 80, 80, 80, 80, 80, 80, 80,\n",
       "        80, 80, 80, 80, 80, 80, 80, 80, 80, 80, 80, 80, 80, 80, 80, 80, 80,\n",
       "        80, 80, 80, 80, 80, 80, 80, 80, 80, 80, 80, 80, 80, 80, 80, 80, 80,\n",
       "        80, 80, 80, 80, 80, 80, 80, 80, 80, 80, 80, 80, 80, 80, 80, 80, 80,\n",
       "        80, 80, 80, 80, 80, 80, 80, 80, 80, 80, 80, 80, 80, 80, 80, 80, 80,\n",
       "        80, 80, 80, 80, 80, 80, 80, 80, 80, 80, 80, 80, 80, 80, 80, 80, 80,\n",
       "        80, 80, 80, 80, 80, 80, 80, 80, 80, 80, 80, 80, 80, 80, 80, 80, 80,\n",
       "        80, 80, 80, 80, 80, 80, 80, 80, 80, 80, 80, 80, 80, 80, 80, 80, 80,\n",
       "        80, 80, 80, 80, 80, 80, 80, 80, 80, 80, 80, 80, 80, 80, 80, 80, 80,\n",
       "        80, 80, 80, 80, 80, 80, 80, 80, 80, 80, 80, 80, 80, 80, 80, 80, 80,\n",
       "        80, 80, 80, 80, 80, 80, 80, 80, 80, 80, 80, 80, 80]),\n",
       " array([80, 80, 80, 80, 80, 80, 80, 80, 80, 80, 80, 80, 80, 80, 80, 80, 80,\n",
       "        80, 80, 18, 80, 80, 80, 80, 80, 80, 80, 80, 80, 80, 80, 80, 80, 80,\n",
       "        80, 80, 80, 80, 80, 80, 80, 80, 80, 80, 80, 80, 80, 80, 80, 80, 80,\n",
       "        80, 80, 80, 80, 80, 80, 80, 80, 80, 80, 80, 80, 80, 80, 80, 80, 80,\n",
       "        80, 80, 80, 80, 80, 80, 80, 80, 80, 80, 80, 80, 80, 80, 80, 80, 80,\n",
       "        80, 80, 80, 80, 80, 80, 80, 80, 80, 80, 80, 80, 80, 80, 80, 80, 80,\n",
       "        80, 80, 80, 80, 80, 80, 80, 80, 80, 80, 80, 80, 80, 80, 80, 80, 80,\n",
       "        80, 80, 80, 80, 80, 80, 80, 80, 80, 80, 80, 80, 80, 80, 80, 80, 80,\n",
       "        80, 80, 80, 80, 80, 80, 80, 80, 80, 80, 80, 80, 80, 80, 80, 80, 80,\n",
       "        80, 80, 80, 80, 80, 80, 80, 80, 80, 80, 80, 80, 80, 80, 80, 80, 80,\n",
       "        80, 80, 80, 80, 80, 80, 80, 80, 80, 80, 80, 80, 80, 80, 80, 80, 80,\n",
       "        80, 80, 80, 80, 80, 80, 80, 80, 80, 80, 80, 80, 80]),\n",
       " array([80, 80, 80, 80, 80, 80, 80, 80, 80, 80, 80, 80, 80, 80, 80, 80, 80,\n",
       "        80, 80, 18, 80, 80, 80, 80, 80, 80, 80, 80, 80, 80, 80, 80, 80, 80,\n",
       "        80, 80, 80, 80, 80, 80, 80, 80, 80, 80, 80, 80, 80, 80, 80, 80, 80,\n",
       "        80, 80, 80, 80, 80, 80, 80, 80, 80, 80, 80, 80, 80, 80, 80, 80, 80,\n",
       "        80, 80, 80, 80, 80, 80, 80, 80, 80, 80, 80, 80, 80, 80, 80, 80, 80,\n",
       "        80, 80, 80, 80, 80, 80, 80, 80, 80, 80, 80, 80, 80, 80, 80, 80, 80,\n",
       "        80, 80, 80, 80, 80, 80, 80, 80, 80, 80, 80, 80, 80, 80, 80, 80, 80,\n",
       "        80, 80, 80, 80, 80, 80, 80, 80, 80, 80, 80, 80, 80, 80, 80, 80, 80,\n",
       "        80, 80, 80, 80, 80, 80, 80, 80, 80, 80, 80, 80, 80, 80, 80, 80, 80,\n",
       "        80, 80, 80, 80, 80, 80, 80, 80, 80, 80, 80, 80, 80, 80, 80, 80, 80,\n",
       "        80, 80, 80, 80, 80, 80, 80, 80, 80, 80, 80, 80, 80, 80, 80, 80, 80,\n",
       "        80, 80, 80, 80, 80, 80, 80, 80, 80, 80, 80, 80, 80]),\n",
       " array([80, 80, 80, 80, 80, 80, 80, 80, 80, 80, 80, 80, 80, 80, 80, 80, 80,\n",
       "        80, 80, 18, 80, 80, 80, 80, 80, 80, 80, 80, 80, 80, 80, 80, 80, 80,\n",
       "        80, 80, 80, 80, 80, 80, 80, 80, 80, 80, 80, 80, 80, 80, 80, 80, 80,\n",
       "        80, 80, 80, 80, 80, 80, 80, 80, 80, 80, 80, 80, 80, 80, 80, 80, 80,\n",
       "        80, 80, 80, 80, 80, 80, 80, 80, 80, 80, 80, 80, 80, 80, 80, 80, 80,\n",
       "        80, 80, 80, 80, 80, 80, 80, 80, 80, 80, 80, 80, 80, 80, 80, 80, 80,\n",
       "        80, 80, 80, 80, 80, 80, 80, 80, 80, 80, 80, 80, 80, 80, 80, 80, 80,\n",
       "        80, 80, 80, 80, 80, 80, 80, 80, 80, 80, 80, 80, 80, 80, 80, 80, 80,\n",
       "        80, 80, 80, 80, 80, 80, 80, 80, 80, 80, 80, 80, 80, 80, 80, 80, 80,\n",
       "        80, 80, 80, 80, 80, 80, 80, 80, 80, 80, 80, 80, 80, 80, 80, 80, 80,\n",
       "        80, 80, 80, 80, 80, 80, 80, 80, 80, 80, 80, 80, 80, 80, 80, 80, 80,\n",
       "        80, 80, 80, 80, 80, 80, 80, 80, 80, 80, 80, 80, 80]),\n",
       " array([80, 80, 80, 80, 80, 80, 80, 80, 80, 80, 80, 80, 80, 80, 80, 80, 80,\n",
       "        80, 80, 18, 80, 80, 80, 80, 80, 80, 80, 80, 80, 80, 80, 80, 80, 80,\n",
       "        80, 80, 80, 80, 80, 80, 80, 80, 80, 80, 80, 80, 80, 80, 80, 80, 80,\n",
       "        80, 80, 80, 80, 80, 80, 80, 80, 80, 80, 80, 80, 80, 80, 80, 80, 80,\n",
       "        80, 80, 80, 80, 80, 80, 80, 80, 80, 80, 80, 80, 80, 80, 80, 80, 80,\n",
       "        80, 80, 80, 80, 80, 80, 80, 80, 80, 80, 80, 80, 80, 80, 80, 80, 80,\n",
       "        80, 80, 80, 80, 80, 80, 80, 80, 80, 80, 80, 80, 80, 80, 80, 80, 80,\n",
       "        80, 80, 80, 80, 80, 80, 80, 80, 80, 80, 80, 80, 80, 80, 80, 80, 80,\n",
       "        80, 80, 80, 80, 80, 80, 80, 80, 80, 80, 80, 80, 80, 80, 80, 80, 80,\n",
       "        80, 80, 80, 80, 80, 80, 80, 80, 80, 80, 80, 80, 80, 80, 80, 80, 80,\n",
       "        80, 80, 80, 80, 80, 80, 80, 80, 80, 80, 80, 80, 80, 80, 80, 80, 80,\n",
       "        80, 80, 80, 80, 80, 80, 80, 80, 80, 80, 80, 80, 80])]"
      ]
     },
     "execution_count": 2,
     "metadata": {},
     "output_type": "execute_result"
    }
   ],
   "source": [
    "import torch\n",
    "from PIL import Image\n",
    "from transformers import CLIPProcessor, CLIPModel, Mask2FormerImageProcessor, Mask2FormerForUniversalSegmentation\n",
    "import open3d as o3d\n",
    "import numpy as np\n",
    "\n",
    "bunny = o3d.data.BunnyMesh()\n",
    "mesh = o3d.io.read_triangle_mesh(bunny.path)\n",
    "mesh.compute_vertex_normals()\n",
    "\n",
    "import torch\n",
    "from PIL import Image\n",
    "import numpy as np\n",
    "import open3d as o3d\n",
    "from transformers import CLIPProcessor, CLIPModel, Mask2FormerImageProcessor, Mask2FormerForUniversalSegmentation\n",
    "\n",
    "clip_model = CLIPModel.from_pretrained(\"openai/clip-vit-base-patch32\")\n",
    "clip_processor = CLIPProcessor.from_pretrained(\"openai/clip-vit-base-patch32\")\n",
    "\n",
    "segmentation_processor = Mask2FormerImageProcessor.from_pretrained(\"facebook/mask2former-swin-large-coco-instance\")\n",
    "segmentation_model = Mask2FormerForUniversalSegmentation.from_pretrained(\"facebook/mask2former-swin-large-coco-instance\")\n",
    "\n",
    "def render_views(mesh, num_views=5, image_size=(256, 256)):\n",
    "    images = []\n",
    "    vis = o3d.visualization.Visualizer()\n",
    "    vis.create_window(width=image_size[0], height=image_size[1], visible=False)\n",
    "\n",
    "    for i in range(num_views):\n",
    "        vis.add_geometry(mesh)\n",
    "        ctr = vis.get_view_control()\n",
    "        ctr.set_zoom(0.8)\n",
    "        ctr.rotate(60 * i, 0)\n",
    "\n",
    "        vis.poll_events()\n",
    "        vis.update_renderer()\n",
    "        image = vis.capture_screen_float_buffer(do_render=True)\n",
    "        image = np.asarray(image) * 255\n",
    "        image = image.astype(np.uint8)\n",
    "        images.append(Image.fromarray(image))\n",
    "\n",
    "        vis.clear_geometries()\n",
    "\n",
    "    vis.destroy_window()\n",
    "    return images\n",
    "\n",
    "rendered_images = render_views(mesh)\n",
    "\n",
    "def segment_image(image, text_prompt):\n",
    "    inputs = clip_processor(text=text_prompt, images=image, return_tensors=\"pt\", padding=True)\n",
    "    outputs = clip_model(**inputs)\n",
    "    logits_per_image = outputs.logits_per_image\n",
    "    #probs = logits_per_image.softmax(dim=1)\n",
    "\n",
    "    segmentation_inputs = segmentation_processor(image, return_tensors=\"pt\")\n",
    "    segmentation_outputs = segmentation_model(**segmentation_inputs)\n",
    "\n",
    "    masks = torch.argmax(segmentation_outputs.class_queries_logits, dim=-1)\n",
    "    masks = masks.squeeze().cpu().numpy()\n",
    "    return masks\n",
    "\n",
    "user_input = \"ears of the bunny\"\n",
    "\n",
    "segmented_masks = []\n",
    "for image in rendered_images:\n",
    "    masks = segment_image(image, user_input)\n",
    "    segmented_masks.append(masks)\n",
    "\n"
   ]
  },
  {
   "cell_type": "code",
   "execution_count": null,
   "metadata": {},
   "outputs": [],
   "source": [
    "'''\n",
    "def project_2d_to_3d(mesh, masks, camera_params):\n",
    "    \"\"\"\n",
    "    Project 2D segmentation masks to 3D vertices.\n",
    "    \"\"\"\n",
    "    # Placeholder for projection logic\n",
    "    # For each vertex in the mesh, check if it projects into the segmented region in any view\n",
    "    segmented_vertices = set()\n",
    "    for i, mask in enumerate(masks):\n",
    "        # Use camera parameters to map 2D mask to 3D vertices\n",
    "        # (This step requires camera calibration and projection logic)\n",
    "        pass\n",
    "    return list(segmented_vertices)\n",
    "\n",
    "# Placeholder for camera parameters (replace with actual values)\n",
    "camera_params = [{\"position\": [0, 0, 5], \"orientation\": [0, 0, 0]}] * len(rendered_images)\n",
    "\n",
    "# Project masks to 3D\n",
    "segmented_vertices = project_2d_to_3d(mesh, segmented_masks, camera_params)\n",
    "\n",
    "# Step 7: Visualize the segmented 3D mesh\n",
    "segmented_mesh = mesh.select_by_index(segmented_vertices)\n",
    "#o3d.visualization.draw_geometries([segmented_mesh])\n",
    "'''"
   ]
  },
  {
   "cell_type": "markdown",
   "metadata": {},
   "source": [
    "## Shapes"
   ]
  },
  {
   "cell_type": "code",
   "execution_count": null,
   "metadata": {},
   "outputs": [
    {
     "name": "stdout",
     "output_type": "stream",
     "text": [
      "[Open3D INFO] Skipping non-triangle primitive geometry of type: 8\n",
      "[Open3D INFO] Skipping non-triangle primitive geometry of type: 8\n",
      "[Open3D INFO] Skipping non-triangle primitive geometry of type: 8\n",
      "[Open3D INFO] Skipping non-triangle primitive geometry of type: 8\n",
      "[Open3D INFO] Skipping non-triangle primitive geometry of type: 8\n",
      "[Open3D INFO] Skipping non-triangle primitive geometry of type: 8\n",
      "[Open3D INFO] Skipping non-triangle primitive geometry of type: 8\n",
      "[Open3D INFO] Skipping non-triangle primitive geometry of type: 8\n",
      "[Open3D INFO] Skipping non-triangle primitive geometry of type: 8\n",
      "[Open3D INFO] Skipping non-triangle primitive geometry of type: 8\n",
      "\u001b[1;33m[Open3D WARNING] The number of points is 0 when creating axis-aligned bounding box.\u001b[0;m\n"
     ]
    },
    {
     "data": {
      "text/plain": [
       "Visualizer with name Open3D"
      ]
     },
     "execution_count": 2,
     "metadata": {},
     "output_type": "execute_result"
    }
   ],
   "source": [
    "import open3d as o3d\n",
    "import numpy as np\n",
    "\n",
    "print(\"Let's define some primitives\")\n",
    "mesh_box = o3d.geometry.TriangleMesh.create_box(width=1.0,\n",
    "                                                height=1.0,\n",
    "                                                depth=1.0)\n",
    "mesh_box.compute_vertex_normals()\n",
    "mesh_box.paint_uniform_color([0.9, 0.1, 0.1])\n",
    "mesh_sphere = o3d.geometry.TriangleMesh.create_sphere(radius=1.0)\n",
    "mesh_sphere.compute_vertex_normals()\n",
    "mesh_sphere.paint_uniform_color([0.1, 0.1, 0.7])\n",
    "mesh_cylinder = o3d.geometry.TriangleMesh.create_cylinder(radius=0.3,\n",
    "                                                          height=4.0)\n",
    "mesh_cylinder.compute_vertex_normals()\n",
    "mesh_cylinder.paint_uniform_color([0.1, 0.9, 0.1])\n",
    "mesh_frame = o3d.geometry.TriangleMesh.create_coordinate_frame(\n",
    "    size=0.6, origin=[-2, -2, -2])"
   ]
  },
  {
   "cell_type": "code",
   "execution_count": null,
   "metadata": {},
   "outputs": [
    {
     "name": "stdout",
     "output_type": "stream",
     "text": [
      "Reading mesh from file: knot.ply stored at /Users/idilkpkrn/open3d_data/extract/KnotMesh/KnotMesh.ply\n",
      "[Open3D INFO] Skipping non-triangle primitive geometry of type: 8\n",
      "[Open3D INFO] Skipping non-triangle primitive geometry of type: 8\n",
      "[Open3D INFO] Skipping non-triangle primitive geometry of type: 8\n",
      "[Open3D INFO] Skipping non-triangle primitive geometry of type: 8\n",
      "[Open3D INFO] Skipping non-triangle primitive geometry of type: 8\n",
      "[Open3D INFO] Skipping non-triangle primitive geometry of type: 8\n",
      "[Open3D INFO] Skipping non-triangle primitive geometry of type: 8\n",
      "[Open3D INFO] Skipping non-triangle primitive geometry of type: 8\n",
      "[Open3D INFO] Skipping non-triangle primitive geometry of type: 8\n",
      "[Open3D INFO] Skipping non-triangle primitive geometry of type: 8\n",
      "TriangleMesh with 0 points and 0 triangles.\n"
     ]
    }
   ],
   "source": [
    "import open3d as o3d\n",
    "import numpy as np    \n",
    "knot_data = o3d.data.KnotMesh()\n",
    "print(f\"Reading mesh from file: knot.ply stored at {knot_data.path}\")\n",
    "mesh = o3d.io.read_triangle_mesh(knot_data.path)\n",
    "mesh = o3d.io.read_triangle_mesh(\"data/roadBike/roadBike.obj\")\n",
    "print(mesh)"
   ]
  },
  {
   "cell_type": "code",
   "execution_count": null,
   "metadata": {},
   "outputs": [],
   "source": [
    "mesh_frame = o3d.geometry.TriangleMesh.create_coordinate_frame(\n",
    "    size=0.6, origin=[-2, -2, -2])"
   ]
  },
  {
   "cell_type": "code",
   "execution_count": null,
   "metadata": {},
   "outputs": [
    {
     "name": "stdout",
     "output_type": "stream",
     "text": [
      "We draw a few primitives using collection.\n",
      "\u001b[1;33m[Open3D WARNING] The number of points is 0 when creating axis-aligned bounding box.\u001b[0;m\n"
     ]
    },
    {
     "name": "stderr",
     "output_type": "stream",
     "text": [
      "2025-02-10 18:08:43.528 Python[49642:2197320] +[IMKClient subclass]: chose IMKClient_Modern\n",
      "2025-02-10 18:08:43.528 Python[49642:2197320] +[IMKInputSession subclass]: chose IMKInputSession_Modern\n"
     ]
    }
   ],
   "source": [
    "print(\"We draw a few primitives using collection.\")\n",
    "o3d.visualization.draw_geometries(\n",
    "    [mesh])"
   ]
  }
 ],
 "metadata": {
  "kernelspec": {
   "display_name": ".venv",
   "language": "python",
   "name": "python3"
  },
  "language_info": {
   "codemirror_mode": {
    "name": "ipython",
    "version": 3
   },
   "file_extension": ".py",
   "mimetype": "text/x-python",
   "name": "python",
   "nbconvert_exporter": "python",
   "pygments_lexer": "ipython3",
   "version": "3.11.9"
  }
 },
 "nbformat": 4,
 "nbformat_minor": 2
}
