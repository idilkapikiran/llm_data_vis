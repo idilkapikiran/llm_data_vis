{
 "cells": [
  {
   "cell_type": "code",
   "execution_count": 2,
   "metadata": {},
   "outputs": [],
   "source": [
    "from transformers import BlipProcessor, BlipForConditionalGeneration\n",
    "from PIL import Image"
   ]
  },
  {
   "cell_type": "code",
   "execution_count": null,
   "metadata": {},
   "outputs": [
    {
     "name": "stdout",
     "output_type": "stream",
     "text": [
      "Cosine similarity between text and image: 0.2859526574611664\n"
     ]
    }
   ],
   "source": [
    "from transformers import CLIPProcessor, CLIPModel\n",
    "import torch\n",
    "from PIL import Image\n",
    "import numpy as np\n",
    "import matplotlib.pyplot as plt\n",
    "from sklearn.preprocessing import MinMaxScaler\n",
    "\n",
    "model = CLIPModel.from_pretrained(\"openai/clip-vit-base-patch32\")\n",
    "processor = CLIPProcessor.from_pretrained(\"openai/clip-vit-base-patch32\")\n",
    "\n",
    "image = Image.open(\"view_1.png\")\n",
    "image = image.convert(\"RGB\")\n",
    "image_np = np.array(image)\n",
    "\n",
    "text_prompt = \"rabbit\"\n",
    "\n",
    "inputs = processor(text=text_prompt, images=image, return_tensors=\"pt\", padding=True)\n",
    "\n",
    "with torch.no_grad():\n",
    "    outputs = model(**inputs)\n",
    "    image_embeds = outputs.image_embeds\n",
    "    text_embeds = outputs.text_embeds\n",
    "\n",
    "similarity = torch.cosine_similarity(image_embeds, text_embeds)\n",
    "print(f\"Cosine similarity between text and image: {similarity.item()}\")\n",
    "\n",
    "patch_size = 32 \n",
    "height, width, _ = image_np.shape\n",
    "patches = []\n",
    "\n",
    "for i in range(0, height, patch_size):\n",
    "    for j in range(0, width, patch_size):\n",
    "        patch = image_np[i:i+patch_size, j:j+patch_size]\n",
    "        patches.append((patch, (i, j)))\n",
    "\n",
    "patch_similarities = []\n",
    "\n",
    "for patch, (i, j) in patches:\n",
    "    patch_image = Image.fromarray(patch)\n",
    "    inputs_patch = processor(text=text_prompt, images=patch_image, return_tensors=\"pt\", padding=True)\n",
    "\n",
    "    with torch.no_grad():\n",
    "        outputs_patch = model(**inputs_patch)\n",
    "        image_embeds_patch = outputs_patch.image_embeds\n",
    "        similarity_patch = torch.cosine_similarity(image_embeds_patch, text_embeds)\n",
    "        patch_similarities.append((similarity_patch.item(), (i, j, patch)))\n",
    "\n",
    "similarities = [sim for sim, _ in patch_similarities]\n",
    "scaler = MinMaxScaler()\n",
    "normalized_similarities = scaler.fit_transform(np.array(similarities).reshape(-1, 1))\n",
    "\n",
    "highlighted_image = image_np.copy()\n",
    "\n",
    "for (similarity_value, (i, j, patch)), norm_similarity in zip(patch_similarities, normalized_similarities):\n",
    "    if norm_similarity > 0.7: \n",
    "        highlighted_image[i:i+patch_size, j:j+patch_size] = np.array([255, 0, 0])\n",
    "\n",
    "plt.imshow(highlighted_image)\n",
    "plt.title(f\"Highlighted Regions (Similarity > 0.8)\")\n",
    "plt.axis(\"off\")\n",
    "plt.show()\n"
   ]
  },
  {
   "cell_type": "code",
   "execution_count": null,
   "metadata": {},
   "outputs": [],
   "source": []
  }
 ],
 "metadata": {
  "kernelspec": {
   "display_name": ".venv",
   "language": "python",
   "name": "python3"
  },
  "language_info": {
   "codemirror_mode": {
    "name": "ipython",
    "version": 3
   },
   "file_extension": ".py",
   "mimetype": "text/x-python",
   "name": "python",
   "nbconvert_exporter": "python",
   "pygments_lexer": "ipython3",
   "version": "3.11.9"
  }
 },
 "nbformat": 4,
 "nbformat_minor": 2
}
